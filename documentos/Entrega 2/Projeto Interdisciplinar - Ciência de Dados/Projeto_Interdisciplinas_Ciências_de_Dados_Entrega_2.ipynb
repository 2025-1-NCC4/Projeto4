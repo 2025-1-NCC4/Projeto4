{
  "nbformat": 4,
  "nbformat_minor": 0,
  "metadata": {
    "colab": {
      "provenance": []
    },
    "kernelspec": {
      "name": "python3",
      "display_name": "Python 3"
    },
    "language_info": {
      "name": "python"
    }
  },
  "cells": [
    {
      "cell_type": "code",
      "execution_count": null,
      "metadata": {
        "id": "er_CAW4qBrOg"
      },
      "outputs": [],
      "source": [
        "!pip install python-bcb"
      ]
    },
    {
      "cell_type": "code",
      "source": [
        "import pandas as pd\n",
        "import matplotlib.pyplot as plt\n",
        "\n",
        "from bcb import sgs\n",
        "\n",
        "#Selecionar os Dados\n",
        "IPCA = sgs.get({'IPCA':433}, start='2000-01-01').reset_index()\n",
        "IPCAab = sgs.get({'IPCAab':1635}, start='2000-01-01').reset_index()\n",
        "IPAM = sgs.get({'IPAM':7450}, start='2000-01-01').reset_index()\n",
        "Ccb = sgs.get({'Custo Cesta Basica - SP':7493}, start='2000-01-01').reset_index()\n",
        "\n",
        "#Limpar/Uniformizar os Dados\n",
        "def datas(df, nome_coluna):\n",
        "  df.columns = ['Data', nome_coluna]\n",
        "  df['Data'] = pd.to_datetime(df['Data'])\n",
        "  return df\n",
        "\n",
        "dfipca = datas(IPCA, 'IPCA')\n",
        "dfipcaab = datas(IPCAab, 'IPCA Alimentacao e Bebidas')\n",
        "dfipam = datas(IPAM, 'IPA-M')\n",
        "dfccb = datas(Ccb, 'Custo Cesta Basica - SP')\n",
        "\n",
        "#Derivar os Dados\n",
        "def variacao(df, nome_coluna, variacao):\n",
        "  df[variacao] = df[nome_coluna].pct_change() *100\n",
        "  return df\n",
        "\n",
        "dfipca = variacao(dfipca, 'IPCA', 'Variacao IPCA')\n",
        "dfipcaab = variacao(dfipcaab, 'IPCA Alimentacao e Bebidas', 'Variacao IPCA-AB')\n",
        "dfipam = variacao(dfipam, 'IPA-M', 'Variacao IPA-M')\n",
        "dfccb = variacao(dfccb, 'Custo Cesta Basica - SP', 'Variacao Custo Cesta Basica - SP')\n",
        "\n",
        "#Integrar os Dados\n",
        "dfintegrar = dfipca.merge(dfipcaab, on='Data', how='inner')\n",
        "dfintegrar = dfintegrar.merge(dfipam, on='Data', how='inner')\n",
        "dfintegrar = dfintegrar.merge(dfccb, on='Data', how='inner')\n",
        "\n",
        "#Formatar os Dados\n",
        "dfintegrar = dfintegrar.round(2)\n",
        "dfipca = dfipca.round(2)\n",
        "dfipcaab = dfipcaab.round(2)\n",
        "dfipam = dfipam.round(2)\n",
        "dfccb = dfccb.round(2)\n",
        "\n",
        "print(dfintegrar)"
      ],
      "metadata": {
        "collapsed": true,
        "id": "tdd1XN1GBvJY"
      },
      "execution_count": null,
      "outputs": []
    }
  ]
}