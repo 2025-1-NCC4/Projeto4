{
  "nbformat": 4,
  "nbformat_minor": 0,
  "metadata": {
    "colab": {
      "provenance": []
    },
    "kernelspec": {
      "name": "python3",
      "display_name": "Python 3"
    },
    "language_info": {
      "name": "python"
    }
  },
  "cells": [
    {
      "cell_type": "code",
      "execution_count": null,
      "metadata": {
        "id": "er_CAW4qBrOg"
      },
      "outputs": [],
      "source": [
        "!pip install python-bcb"
      ]
    },
    {
      "cell_type": "code",
      "source": [
        "import pandas as pd\n",
        "import matplotlib.pyplot as plt\n",
        "\n",
        "from bcb import sgs\n",
        "\n",
        "#Selecionar os Dados\n",
        "IPCA = sgs.get({'IPCA':433}, start='2000-01-01').reset_index()\n",
        "IPCAab = sgs.get({'IPCAab':1635}, start='2000-01-01').reset_index()\n",
        "IPAM = sgs.get({'IPAM':7450}, start='2000-01-01').reset_index()\n",
        "Ccb = sgs.get({'Custo Cesta Basica - SP':7493}, start='2000-01-01').reset_index()\n",
        "\n",
        "#Limpar/Uniformizar os Dados\n",
        "def datas(df, nome_coluna):\n",
        "  df.columns = ['Data', nome_coluna]\n",
        "  df['Data'] = pd.to_datetime(df['Data'])\n",
        "  return df\n",
        "\n",
        "dfipca = datas(IPCA, 'IPCA')\n",
        "dfipcaab = datas(IPCAab, 'IPCA Alimentacao e Bebidas')\n",
        "dfipam = datas(IPAM, 'IPA-M')\n",
        "dfccb = datas(Ccb, 'Custo Cesta Basica - SP')\n",
        "\n",
        "#Derivar os Dados\n",
        "def variacao(df, nome_coluna, variacao):\n",
        "  df[variacao] = df[nome_coluna].pct_change() *100\n",
        "  return df\n",
        "\n",
        "dfipca = variacao(dfipca, 'IPCA', 'Variacao IPCA')\n",
        "dfipcaab = variacao(dfipcaab, 'IPCA Alimentacao e Bebidas', 'Variacao IPCA-AB')\n",
        "dfipam = variacao(dfipam, 'IPA-M', 'Variacao IPA-M')\n",
        "dfccb = variacao(dfccb, 'Custo Cesta Basica - SP', 'Variacao Custo Cesta Basica - SP')\n",
        "\n",
        "#Integrar os Dados\n",
        "dfintegrar = dfipca.merge(dfipcaab, on='Data', how='inner')\n",
        "dfintegrar = dfintegrar.merge(dfipam, on='Data', how='inner')\n",
        "dfintegrar = dfintegrar.merge(dfccb, on='Data', how='inner')\n",
        "\n",
        "#Formatar os Dados\n",
        "dfintegrar = dfintegrar.round(2)\n",
        "dfipca = dfipca.round(2)\n",
        "dfipcaab = dfipcaab.round(2)\n",
        "dfipam = dfipam.round(2)\n",
        "dfccb = dfccb.round(2)\n",
        "\n",
        "print(dfintegrar)"
      ],
      "metadata": {
        "colab": {
          "base_uri": "https://localhost:8080/"
        },
        "collapsed": true,
        "id": "tdd1XN1GBvJY",
        "outputId": "593f8cc4-e650-4063-8659-5706fcaa5308"
      },
      "execution_count": 34,
      "outputs": [
        {
          "output_type": "stream",
          "name": "stdout",
          "text": [
            "          Data  IPCA  Variacao IPCA  IPCA Alimentacao e Bebidas  \\\n",
            "0   2000-01-01  0.62            NaN                        0.84   \n",
            "1   2000-02-01  0.13         -79.03                       -0.25   \n",
            "2   2000-03-01  0.22          69.23                       -0.46   \n",
            "3   2000-04-01  0.42          90.91                       -0.36   \n",
            "4   2000-05-01  0.01         -97.62                       -0.67   \n",
            "..         ...   ...            ...                         ...   \n",
            "298 2024-11-01  0.39         -30.36                        1.55   \n",
            "299 2024-12-01  0.52          33.33                        1.18   \n",
            "300 2025-01-01  0.16         -69.23                        0.96   \n",
            "301 2025-02-01  1.31         718.75                        0.70   \n",
            "302 2025-03-01  0.56         -57.25                        1.17   \n",
            "\n",
            "     Variacao IPCA-AB  IPA-M  Variacao IPA-M  Custo Cesta Basica - SP  \\\n",
            "0                 NaN   1.29             NaN                   112.22   \n",
            "1             -129.76   0.41          -68.22                   110.80   \n",
            "2               84.00  -0.06         -114.63                   115.13   \n",
            "3              -21.74   0.04         -166.67                   115.92   \n",
            "4               86.11   0.20          400.00                   111.78   \n",
            "..                ...    ...             ...                      ...   \n",
            "298             46.23   1.74          -10.31                   828.39   \n",
            "299            -23.87   1.21          -30.46                   841.29   \n",
            "300            -18.64   0.24          -80.17                   851.82   \n",
            "301            -27.08   1.17          387.50                   860.53   \n",
            "302             67.14  -0.73         -162.39                   880.72   \n",
            "\n",
            "     Variacao Custo Cesta Basica - SP  \n",
            "0                                 NaN  \n",
            "1                               -1.27  \n",
            "2                                3.91  \n",
            "3                                0.69  \n",
            "4                               -3.57  \n",
            "..                                ...  \n",
            "298                              2.80  \n",
            "299                              1.56  \n",
            "300                              1.25  \n",
            "301                              1.02  \n",
            "302                              2.35  \n",
            "\n",
            "[303 rows x 9 columns]\n"
          ]
        }
      ]
    }
  ]
}