{
  "nbformat": 4,
  "nbformat_minor": 0,
  "metadata": {
    "colab": {
      "provenance": [],
      "toc_visible": true
    },
    "kernelspec": {
      "name": "python3",
      "display_name": "Python 3"
    },
    "language_info": {
      "name": "python"
    }
  },
  "cells": [
    {
      "cell_type": "code",
      "execution_count": null,
      "metadata": {
        "id": "5PK7p-k3poOP",
        "collapsed": true
      },
      "outputs": [],
      "source": [
        "!pip install python-bcb"
      ]
    },
    {
      "cell_type": "code",
      "source": [
        "from bcb import sgs\n",
        "IPCA = sgs.get({'Índice nacional de Preços ao Consumidor-Amplo':433}, start='1980-01-01')\n",
        "df = IPCA.reset_index\n",
        "print(df)"
      ],
      "metadata": {
        "id": "XWWuikHvuRNk"
      },
      "execution_count": null,
      "outputs": []
    },
    {
      "cell_type": "code",
      "source": [
        "from bcb import sgs\n",
        "IPCAab = sgs.get({'IPCA - Alimentação e bebidas':1635}, start='1991-01-01')\n",
        "df = IPCAab.reset_index\n",
        "print(df)"
      ],
      "metadata": {
        "id": "Ncv5H9aZv5DV"
      },
      "execution_count": null,
      "outputs": []
    },
    {
      "cell_type": "code",
      "source": [
        "from bcb import sgs\n",
        "IPAM = sgs.get({'Índice de Preços por Atacado-Mercado (IPA-M)':7450}, start='1994-01-01')\n",
        "df = IPAM.reset_index\n",
        "print(df)"
      ],
      "metadata": {
        "id": "hy8Y9ly4wrQU"
      },
      "execution_count": null,
      "outputs": []
    },
    {
      "cell_type": "code",
      "source": [
        "from bcb import sgs\n",
        "CBSP = sgs.get({'Custo da cesta básica - São Paulo':7493}, start='1998-01-01')\n",
        "df = CBSP.reset_index\n",
        "print(df)"
      ],
      "metadata": {
        "id": "I07_88lyxcrc"
      },
      "execution_count": null,
      "outputs": []
    }
  ]
}