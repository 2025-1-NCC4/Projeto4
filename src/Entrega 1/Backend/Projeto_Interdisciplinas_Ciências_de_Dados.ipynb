{
  "nbformat": 4,
  "nbformat_minor": 0,
  "metadata": {
    "colab": {
      "provenance": [],
      "toc_visible": true
    },
    "kernelspec": {
      "name": "python3",
      "display_name": "Python 3"
    },
    "language_info": {
      "name": "python"
    }
  },
  "cells": [
    {
      "cell_type": "code",
      "execution_count": 1,
      "metadata": {
        "colab": {
          "base_uri": "https://localhost:8080/"
        },
        "id": "5PK7p-k3poOP",
        "outputId": "2065f4a2-02b4-48fb-bf55-87c4a4cb6a8c"
      },
      "outputs": [
        {
          "output_type": "stream",
          "name": "stdout",
          "text": [
            "Collecting python-bcb\n",
            "  Downloading python_bcb-0.3.2-py3-none-any.whl.metadata (2.5 kB)\n",
            "Requirement already satisfied: httpx>=0.24.0 in /usr/local/lib/python3.11/dist-packages (from python-bcb) (0.28.1)\n",
            "Requirement already satisfied: lxml>=4.9.2 in /usr/local/lib/python3.11/dist-packages (from python-bcb) (5.3.1)\n",
            "Requirement already satisfied: pandas>=2.0.0 in /usr/local/lib/python3.11/dist-packages (from python-bcb) (2.2.2)\n",
            "Requirement already satisfied: requests>=2.31.0 in /usr/local/lib/python3.11/dist-packages (from python-bcb) (2.32.3)\n",
            "Requirement already satisfied: anyio in /usr/local/lib/python3.11/dist-packages (from httpx>=0.24.0->python-bcb) (3.7.1)\n",
            "Requirement already satisfied: certifi in /usr/local/lib/python3.11/dist-packages (from httpx>=0.24.0->python-bcb) (2025.1.31)\n",
            "Requirement already satisfied: httpcore==1.* in /usr/local/lib/python3.11/dist-packages (from httpx>=0.24.0->python-bcb) (1.0.7)\n",
            "Requirement already satisfied: idna in /usr/local/lib/python3.11/dist-packages (from httpx>=0.24.0->python-bcb) (3.10)\n",
            "Requirement already satisfied: h11<0.15,>=0.13 in /usr/local/lib/python3.11/dist-packages (from httpcore==1.*->httpx>=0.24.0->python-bcb) (0.14.0)\n",
            "Requirement already satisfied: numpy>=1.23.2 in /usr/local/lib/python3.11/dist-packages (from pandas>=2.0.0->python-bcb) (1.26.4)\n",
            "Requirement already satisfied: python-dateutil>=2.8.2 in /usr/local/lib/python3.11/dist-packages (from pandas>=2.0.0->python-bcb) (2.8.2)\n",
            "Requirement already satisfied: pytz>=2020.1 in /usr/local/lib/python3.11/dist-packages (from pandas>=2.0.0->python-bcb) (2025.1)\n",
            "Requirement already satisfied: tzdata>=2022.7 in /usr/local/lib/python3.11/dist-packages (from pandas>=2.0.0->python-bcb) (2025.1)\n",
            "Requirement already satisfied: charset-normalizer<4,>=2 in /usr/local/lib/python3.11/dist-packages (from requests>=2.31.0->python-bcb) (3.4.1)\n",
            "Requirement already satisfied: urllib3<3,>=1.21.1 in /usr/local/lib/python3.11/dist-packages (from requests>=2.31.0->python-bcb) (2.3.0)\n",
            "Requirement already satisfied: six>=1.5 in /usr/local/lib/python3.11/dist-packages (from python-dateutil>=2.8.2->pandas>=2.0.0->python-bcb) (1.17.0)\n",
            "Requirement already satisfied: sniffio>=1.1 in /usr/local/lib/python3.11/dist-packages (from anyio->httpx>=0.24.0->python-bcb) (1.3.1)\n",
            "Downloading python_bcb-0.3.2-py3-none-any.whl (19 kB)\n",
            "Installing collected packages: python-bcb\n",
            "Successfully installed python-bcb-0.3.2\n"
          ]
        }
      ],
      "source": [
        "!pip install python-bcb"
      ]
    },
    {
      "cell_type": "code",
      "source": [
        "from bcb import sgs\n",
        "IPCA = sgs.get({'Índice nacional de Preços ao Consumidor-Amplo':433}, start='1980-01-01')\n",
        "df = IPCA.reset_index\n",
        "print(df)"
      ],
      "metadata": {
        "colab": {
          "base_uri": "https://localhost:8080/"
        },
        "id": "XWWuikHvuRNk",
        "outputId": "b011246e-5870-4192-d1fe-9a2376e578fb"
      },
      "execution_count": 2,
      "outputs": [
        {
          "output_type": "stream",
          "name": "stdout",
          "text": [
            "<bound method DataFrame.reset_index of             Índice nacional de Preços ao Consumidor-Amplo\n",
            "Date                                                     \n",
            "1980-02-01                                           4.62\n",
            "1980-03-01                                           6.04\n",
            "1980-04-01                                           5.29\n",
            "1980-05-01                                           5.70\n",
            "1980-06-01                                           5.31\n",
            "...                                                   ...\n",
            "2024-09-01                                           0.44\n",
            "2024-10-01                                           0.56\n",
            "2024-11-01                                           0.39\n",
            "2024-12-01                                           0.52\n",
            "2025-01-01                                           0.16\n",
            "\n",
            "[540 rows x 1 columns]>\n"
          ]
        }
      ]
    },
    {
      "cell_type": "code",
      "source": [
        "from bcb import sgs\n",
        "IPCAab = sgs.get({'IPCA - Alimentação e bebidas':1635}, start='1991-01-01')\n",
        "df = IPCAab.reset_index\n",
        "print(df)"
      ],
      "metadata": {
        "colab": {
          "base_uri": "https://localhost:8080/"
        },
        "id": "Ncv5H9aZv5DV",
        "outputId": "59fb9fa9-dfb0-4fe8-9163-d0922ea02ebf"
      },
      "execution_count": 5,
      "outputs": [
        {
          "output_type": "stream",
          "name": "stdout",
          "text": [
            "<bound method DataFrame.reset_index of             IPCA - Alimentação e bebidas\n",
            "Date                                    \n",
            "1991-02-01                         18.49\n",
            "1991-03-01                          3.87\n",
            "1991-04-01                          5.28\n",
            "1991-05-01                          4.60\n",
            "1991-06-01                         11.23\n",
            "...                                  ...\n",
            "2024-09-01                          0.50\n",
            "2024-10-01                          1.06\n",
            "2024-11-01                          1.55\n",
            "2024-12-01                          1.18\n",
            "2025-01-01                          0.96\n",
            "\n",
            "[407 rows x 1 columns]>\n"
          ]
        }
      ]
    },
    {
      "cell_type": "code",
      "source": [
        "from bcb import sgs\n",
        "IPAM = sgs.get({'Índice de Preços por Atacado-Mercado (IPA-M)':7450}, start='1994-01-01')\n",
        "df = IPAM.reset_index\n",
        "print(df)"
      ],
      "metadata": {
        "colab": {
          "base_uri": "https://localhost:8080/"
        },
        "id": "hy8Y9ly4wrQU",
        "outputId": "7b689fa6-0f8e-4ccb-9d05-590842473a54"
      },
      "execution_count": 8,
      "outputs": [
        {
          "output_type": "stream",
          "name": "stdout",
          "text": [
            "<bound method DataFrame.reset_index of             Índice de Preços por Atacado-Mercado (IPA-M)\n",
            "Date                                                    \n",
            "1994-10-01                                          1.98\n",
            "1994-11-01                                          2.76\n",
            "1994-12-01                                          0.22\n",
            "1995-01-01                                          0.51\n",
            "1995-02-01                                          0.88\n",
            "...                                                  ...\n",
            "2024-10-01                                          1.94\n",
            "2024-11-01                                          1.74\n",
            "2024-12-01                                          1.21\n",
            "2025-01-01                                          0.24\n",
            "2025-02-01                                          1.17\n",
            "\n",
            "[365 rows x 1 columns]>\n"
          ]
        }
      ]
    },
    {
      "cell_type": "code",
      "source": [
        "from bcb import sgs\n",
        "CBSP = sgs.get({'Custo da cesta básica - São Paulo':7493}, start='1998-01-01')\n",
        "df = CBSP.reset_index\n",
        "print(df)"
      ],
      "metadata": {
        "colab": {
          "base_uri": "https://localhost:8080/"
        },
        "id": "I07_88lyxcrc",
        "outputId": "5c33acfa-5e48-4402-fcf6-990f8b1605e3"
      },
      "execution_count": 9,
      "outputs": [
        {
          "output_type": "stream",
          "name": "stdout",
          "text": [
            "<bound method DataFrame.reset_index of             Custo da cesta básica - São Paulo\n",
            "Date                                         \n",
            "1998-02-01                              99.65\n",
            "1998-03-01                             101.97\n",
            "1998-04-01                             106.30\n",
            "1998-05-01                             112.14\n",
            "1998-06-01                             111.47\n",
            "...                                       ...\n",
            "2024-09-01                             792.47\n",
            "2024-10-01                             805.84\n",
            "2024-11-01                             828.39\n",
            "2024-12-01                             841.29\n",
            "2025-01-01                             851.82\n",
            "\n",
            "[324 rows x 1 columns]>\n"
          ]
        }
      ]
    }
  ]
}